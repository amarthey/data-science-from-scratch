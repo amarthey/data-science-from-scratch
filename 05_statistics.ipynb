{
 "cells": [
  {
   "cell_type": "markdown",
   "metadata": {},
   "source": [
    "# statistics"
   ]
  },
  {
   "cell_type": "code",
   "execution_count": 1,
   "metadata": {
    "collapsed": false
   },
   "outputs": [],
   "source": [
    "from __future__ import division\n",
    "from collections import Counter\n",
    "import math\n",
    "import matplotlib.pylab as plt\n",
    "from IPython.display import Image\n",
    "\n",
    "from linear_algebra import sum_of_squares, dot"
   ]
  },
  {
   "cell_type": "code",
   "execution_count": 2,
   "metadata": {
    "collapsed": true
   },
   "outputs": [],
   "source": [
    "num_friends = [100,49,41,40,25,21,21,19,19,18,18,16,15,15,15,15,14,14,13,13,13,13,12,12,11,\n",
    "               10,10,10,10,10,10,10,10,10,10,10,10,10,10,10,9,9,9,9,9,9,9,9,9,9,9,9,9,9,9,\n",
    "               9,9,9,8,8,8,8,8,8,8,8,8,8,8,8,8,7,7,7,7,7,7,7,7,7,7,7,7,7,7,7,6,6,6,6,6,6,6,\n",
    "               6,6,6,6,6,6,6,6,6,6,6,6,6,6,6,5,5,5,5,5,5,5,5,5,5,5,5,5,5,5,5,5,4,4,4,4,4,4,\n",
    "               4,4,4,4,4,4,4,4,4,4,4,4,4,4,3,3,3,3,3,3,3,3,3,3,3,3,3,3,3,3,3,3,3,3,2,2,2,2,\n",
    "               2,2,2,2,2,2,2,2,2,2,2,2,2,1,1,1,1,1,1,1,1,1,1,1,1,1,1,1,1,1,1,1,1,1,1]"
   ]
  },
  {
   "cell_type": "code",
   "execution_count": 3,
   "metadata": {
    "collapsed": false
   },
   "outputs": [
    {
     "data": {
      "application/javascript": [
       "/* Put everything inside the global mpl namespace */\n",
       "window.mpl = {};\n",
       "\n",
       "mpl.get_websocket_type = function() {\n",
       "    if (typeof(WebSocket) !== 'undefined') {\n",
       "        return WebSocket;\n",
       "    } else if (typeof(MozWebSocket) !== 'undefined') {\n",
       "        return MozWebSocket;\n",
       "    } else {\n",
       "        alert('Your browser does not have WebSocket support.' +\n",
       "              'Please try Chrome, Safari or Firefox ≥ 6. ' +\n",
       "              'Firefox 4 and 5 are also supported but you ' +\n",
       "              'have to enable WebSockets in about:config.');\n",
       "    };\n",
       "}\n",
       "\n",
       "mpl.figure = function(figure_id, websocket, ondownload, parent_element) {\n",
       "    this.id = figure_id;\n",
       "\n",
       "    this.ws = websocket;\n",
       "\n",
       "    this.supports_binary = (this.ws.binaryType != undefined);\n",
       "\n",
       "    if (!this.supports_binary) {\n",
       "        var warnings = document.getElementById(\"mpl-warnings\");\n",
       "        if (warnings) {\n",
       "            warnings.style.display = 'block';\n",
       "            warnings.textContent = (\n",
       "                \"This browser does not support binary websocket messages. \" +\n",
       "                    \"Performance may be slow.\");\n",
       "        }\n",
       "    }\n",
       "\n",
       "    this.imageObj = new Image();\n",
       "\n",
       "    this.context = undefined;\n",
       "    this.message = undefined;\n",
       "    this.canvas = undefined;\n",
       "    this.rubberband_canvas = undefined;\n",
       "    this.rubberband_context = undefined;\n",
       "    this.format_dropdown = undefined;\n",
       "\n",
       "    this.image_mode = 'full';\n",
       "\n",
       "    this.root = $('<div/>');\n",
       "    this._root_extra_style(this.root)\n",
       "    this.root.attr('style', 'display: inline-block');\n",
       "\n",
       "    $(parent_element).append(this.root);\n",
       "\n",
       "    this._init_header(this);\n",
       "    this._init_canvas(this);\n",
       "    this._init_toolbar(this);\n",
       "\n",
       "    var fig = this;\n",
       "\n",
       "    this.waiting = false;\n",
       "\n",
       "    this.ws.onopen =  function () {\n",
       "            fig.send_message(\"supports_binary\", {value: fig.supports_binary});\n",
       "            fig.send_message(\"send_image_mode\", {});\n",
       "            fig.send_message(\"refresh\", {});\n",
       "        }\n",
       "\n",
       "    this.imageObj.onload = function() {\n",
       "            if (fig.image_mode == 'full') {\n",
       "                // Full images could contain transparency (where diff images\n",
       "                // almost always do), so we need to clear the canvas so that\n",
       "                // there is no ghosting.\n",
       "                fig.context.clearRect(0, 0, fig.canvas.width, fig.canvas.height);\n",
       "            }\n",
       "            fig.context.drawImage(fig.imageObj, 0, 0);\n",
       "        };\n",
       "\n",
       "    this.imageObj.onunload = function() {\n",
       "        this.ws.close();\n",
       "    }\n",
       "\n",
       "    this.ws.onmessage = this._make_on_message_function(this);\n",
       "\n",
       "    this.ondownload = ondownload;\n",
       "}\n",
       "\n",
       "mpl.figure.prototype._init_header = function() {\n",
       "    var titlebar = $(\n",
       "        '<div class=\"ui-dialog-titlebar ui-widget-header ui-corner-all ' +\n",
       "        'ui-helper-clearfix\"/>');\n",
       "    var titletext = $(\n",
       "        '<div class=\"ui-dialog-title\" style=\"width: 100%; ' +\n",
       "        'text-align: center; padding: 3px;\"/>');\n",
       "    titlebar.append(titletext)\n",
       "    this.root.append(titlebar);\n",
       "    this.header = titletext[0];\n",
       "}\n",
       "\n",
       "\n",
       "\n",
       "mpl.figure.prototype._canvas_extra_style = function(canvas_div) {\n",
       "\n",
       "}\n",
       "\n",
       "\n",
       "mpl.figure.prototype._root_extra_style = function(canvas_div) {\n",
       "\n",
       "}\n",
       "\n",
       "mpl.figure.prototype._init_canvas = function() {\n",
       "    var fig = this;\n",
       "\n",
       "    var canvas_div = $('<div/>');\n",
       "\n",
       "    canvas_div.attr('style', 'position: relative; clear: both; outline: 0');\n",
       "\n",
       "    function canvas_keyboard_event(event) {\n",
       "        return fig.key_event(event, event['data']);\n",
       "    }\n",
       "\n",
       "    canvas_div.keydown('key_press', canvas_keyboard_event);\n",
       "    canvas_div.keyup('key_release', canvas_keyboard_event);\n",
       "    this.canvas_div = canvas_div\n",
       "    this._canvas_extra_style(canvas_div)\n",
       "    this.root.append(canvas_div);\n",
       "\n",
       "    var canvas = $('<canvas/>');\n",
       "    canvas.addClass('mpl-canvas');\n",
       "    canvas.attr('style', \"left: 0; top: 0; z-index: 0; outline: 0\")\n",
       "\n",
       "    this.canvas = canvas[0];\n",
       "    this.context = canvas[0].getContext(\"2d\");\n",
       "\n",
       "    var rubberband = $('<canvas/>');\n",
       "    rubberband.attr('style', \"position: absolute; left: 0; top: 0; z-index: 1;\")\n",
       "\n",
       "    var pass_mouse_events = true;\n",
       "\n",
       "    canvas_div.resizable({\n",
       "        start: function(event, ui) {\n",
       "            pass_mouse_events = false;\n",
       "        },\n",
       "        resize: function(event, ui) {\n",
       "            fig.request_resize(ui.size.width, ui.size.height);\n",
       "        },\n",
       "        stop: function(event, ui) {\n",
       "            pass_mouse_events = true;\n",
       "            fig.request_resize(ui.size.width, ui.size.height);\n",
       "        },\n",
       "    });\n",
       "\n",
       "    function mouse_event_fn(event) {\n",
       "        if (pass_mouse_events)\n",
       "            return fig.mouse_event(event, event['data']);\n",
       "    }\n",
       "\n",
       "    rubberband.mousedown('button_press', mouse_event_fn);\n",
       "    rubberband.mouseup('button_release', mouse_event_fn);\n",
       "    // Throttle sequential mouse events to 1 every 20ms.\n",
       "    rubberband.mousemove('motion_notify', mouse_event_fn);\n",
       "\n",
       "    rubberband.mouseenter('figure_enter', mouse_event_fn);\n",
       "    rubberband.mouseleave('figure_leave', mouse_event_fn);\n",
       "\n",
       "    canvas_div.on(\"wheel\", function (event) {\n",
       "        event = event.originalEvent;\n",
       "        event['data'] = 'scroll'\n",
       "        if (event.deltaY < 0) {\n",
       "            event.step = 1;\n",
       "        } else {\n",
       "            event.step = -1;\n",
       "        }\n",
       "        mouse_event_fn(event);\n",
       "    });\n",
       "\n",
       "    canvas_div.append(canvas);\n",
       "    canvas_div.append(rubberband);\n",
       "\n",
       "    this.rubberband = rubberband;\n",
       "    this.rubberband_canvas = rubberband[0];\n",
       "    this.rubberband_context = rubberband[0].getContext(\"2d\");\n",
       "    this.rubberband_context.strokeStyle = \"#000000\";\n",
       "\n",
       "    this._resize_canvas = function(width, height) {\n",
       "        // Keep the size of the canvas, canvas container, and rubber band\n",
       "        // canvas in synch.\n",
       "        canvas_div.css('width', width)\n",
       "        canvas_div.css('height', height)\n",
       "\n",
       "        canvas.attr('width', width);\n",
       "        canvas.attr('height', height);\n",
       "\n",
       "        rubberband.attr('width', width);\n",
       "        rubberband.attr('height', height);\n",
       "    }\n",
       "\n",
       "    // Set the figure to an initial 600x600px, this will subsequently be updated\n",
       "    // upon first draw.\n",
       "    this._resize_canvas(600, 600);\n",
       "\n",
       "    // Disable right mouse context menu.\n",
       "    $(this.rubberband_canvas).bind(\"contextmenu\",function(e){\n",
       "        return false;\n",
       "    });\n",
       "\n",
       "    function set_focus () {\n",
       "        canvas.focus();\n",
       "        canvas_div.focus();\n",
       "    }\n",
       "\n",
       "    window.setTimeout(set_focus, 100);\n",
       "}\n",
       "\n",
       "mpl.figure.prototype._init_toolbar = function() {\n",
       "    var fig = this;\n",
       "\n",
       "    var nav_element = $('<div/>')\n",
       "    nav_element.attr('style', 'width: 100%');\n",
       "    this.root.append(nav_element);\n",
       "\n",
       "    // Define a callback function for later on.\n",
       "    function toolbar_event(event) {\n",
       "        return fig.toolbar_button_onclick(event['data']);\n",
       "    }\n",
       "    function toolbar_mouse_event(event) {\n",
       "        return fig.toolbar_button_onmouseover(event['data']);\n",
       "    }\n",
       "\n",
       "    for(var toolbar_ind in mpl.toolbar_items) {\n",
       "        var name = mpl.toolbar_items[toolbar_ind][0];\n",
       "        var tooltip = mpl.toolbar_items[toolbar_ind][1];\n",
       "        var image = mpl.toolbar_items[toolbar_ind][2];\n",
       "        var method_name = mpl.toolbar_items[toolbar_ind][3];\n",
       "\n",
       "        if (!name) {\n",
       "            // put a spacer in here.\n",
       "            continue;\n",
       "        }\n",
       "        var button = $('<button/>');\n",
       "        button.addClass('ui-button ui-widget ui-state-default ui-corner-all ' +\n",
       "                        'ui-button-icon-only');\n",
       "        button.attr('role', 'button');\n",
       "        button.attr('aria-disabled', 'false');\n",
       "        button.click(method_name, toolbar_event);\n",
       "        button.mouseover(tooltip, toolbar_mouse_event);\n",
       "\n",
       "        var icon_img = $('<span/>');\n",
       "        icon_img.addClass('ui-button-icon-primary ui-icon');\n",
       "        icon_img.addClass(image);\n",
       "        icon_img.addClass('ui-corner-all');\n",
       "\n",
       "        var tooltip_span = $('<span/>');\n",
       "        tooltip_span.addClass('ui-button-text');\n",
       "        tooltip_span.html(tooltip);\n",
       "\n",
       "        button.append(icon_img);\n",
       "        button.append(tooltip_span);\n",
       "\n",
       "        nav_element.append(button);\n",
       "    }\n",
       "\n",
       "    var fmt_picker_span = $('<span/>');\n",
       "\n",
       "    var fmt_picker = $('<select/>');\n",
       "    fmt_picker.addClass('mpl-toolbar-option ui-widget ui-widget-content');\n",
       "    fmt_picker_span.append(fmt_picker);\n",
       "    nav_element.append(fmt_picker_span);\n",
       "    this.format_dropdown = fmt_picker[0];\n",
       "\n",
       "    for (var ind in mpl.extensions) {\n",
       "        var fmt = mpl.extensions[ind];\n",
       "        var option = $(\n",
       "            '<option/>', {selected: fmt === mpl.default_extension}).html(fmt);\n",
       "        fmt_picker.append(option)\n",
       "    }\n",
       "\n",
       "    // Add hover states to the ui-buttons\n",
       "    $( \".ui-button\" ).hover(\n",
       "        function() { $(this).addClass(\"ui-state-hover\");},\n",
       "        function() { $(this).removeClass(\"ui-state-hover\");}\n",
       "    );\n",
       "\n",
       "    var status_bar = $('<span class=\"mpl-message\"/>');\n",
       "    nav_element.append(status_bar);\n",
       "    this.message = status_bar[0];\n",
       "}\n",
       "\n",
       "mpl.figure.prototype.request_resize = function(x_pixels, y_pixels) {\n",
       "    // Request matplotlib to resize the figure. Matplotlib will then trigger a resize in the client,\n",
       "    // which will in turn request a refresh of the image.\n",
       "    this.send_message('resize', {'width': x_pixels, 'height': y_pixels});\n",
       "}\n",
       "\n",
       "mpl.figure.prototype.send_message = function(type, properties) {\n",
       "    properties['type'] = type;\n",
       "    properties['figure_id'] = this.id;\n",
       "    this.ws.send(JSON.stringify(properties));\n",
       "}\n",
       "\n",
       "mpl.figure.prototype.send_draw_message = function() {\n",
       "    if (!this.waiting) {\n",
       "        this.waiting = true;\n",
       "        this.ws.send(JSON.stringify({type: \"draw\", figure_id: this.id}));\n",
       "    }\n",
       "}\n",
       "\n",
       "\n",
       "mpl.figure.prototype.handle_save = function(fig, msg) {\n",
       "    var format_dropdown = fig.format_dropdown;\n",
       "    var format = format_dropdown.options[format_dropdown.selectedIndex].value;\n",
       "    fig.ondownload(fig, format);\n",
       "}\n",
       "\n",
       "\n",
       "mpl.figure.prototype.handle_resize = function(fig, msg) {\n",
       "    var size = msg['size'];\n",
       "    if (size[0] != fig.canvas.width || size[1] != fig.canvas.height) {\n",
       "        fig._resize_canvas(size[0], size[1]);\n",
       "        fig.send_message(\"refresh\", {});\n",
       "    };\n",
       "}\n",
       "\n",
       "mpl.figure.prototype.handle_rubberband = function(fig, msg) {\n",
       "    var x0 = msg['x0'];\n",
       "    var y0 = fig.canvas.height - msg['y0'];\n",
       "    var x1 = msg['x1'];\n",
       "    var y1 = fig.canvas.height - msg['y1'];\n",
       "    x0 = Math.floor(x0) + 0.5;\n",
       "    y0 = Math.floor(y0) + 0.5;\n",
       "    x1 = Math.floor(x1) + 0.5;\n",
       "    y1 = Math.floor(y1) + 0.5;\n",
       "    var min_x = Math.min(x0, x1);\n",
       "    var min_y = Math.min(y0, y1);\n",
       "    var width = Math.abs(x1 - x0);\n",
       "    var height = Math.abs(y1 - y0);\n",
       "\n",
       "    fig.rubberband_context.clearRect(\n",
       "        0, 0, fig.canvas.width, fig.canvas.height);\n",
       "\n",
       "    fig.rubberband_context.strokeRect(min_x, min_y, width, height);\n",
       "}\n",
       "\n",
       "mpl.figure.prototype.handle_figure_label = function(fig, msg) {\n",
       "    // Updates the figure title.\n",
       "    fig.header.textContent = msg['label'];\n",
       "}\n",
       "\n",
       "mpl.figure.prototype.handle_cursor = function(fig, msg) {\n",
       "    var cursor = msg['cursor'];\n",
       "    switch(cursor)\n",
       "    {\n",
       "    case 0:\n",
       "        cursor = 'pointer';\n",
       "        break;\n",
       "    case 1:\n",
       "        cursor = 'default';\n",
       "        break;\n",
       "    case 2:\n",
       "        cursor = 'crosshair';\n",
       "        break;\n",
       "    case 3:\n",
       "        cursor = 'move';\n",
       "        break;\n",
       "    }\n",
       "    fig.rubberband_canvas.style.cursor = cursor;\n",
       "}\n",
       "\n",
       "mpl.figure.prototype.handle_message = function(fig, msg) {\n",
       "    fig.message.textContent = msg['message'];\n",
       "}\n",
       "\n",
       "mpl.figure.prototype.handle_draw = function(fig, msg) {\n",
       "    // Request the server to send over a new figure.\n",
       "    fig.send_draw_message();\n",
       "}\n",
       "\n",
       "mpl.figure.prototype.handle_image_mode = function(fig, msg) {\n",
       "    fig.image_mode = msg['mode'];\n",
       "}\n",
       "\n",
       "mpl.figure.prototype.updated_canvas_event = function() {\n",
       "    // Called whenever the canvas gets updated.\n",
       "    this.send_message(\"ack\", {});\n",
       "}\n",
       "\n",
       "// A function to construct a web socket function for onmessage handling.\n",
       "// Called in the figure constructor.\n",
       "mpl.figure.prototype._make_on_message_function = function(fig) {\n",
       "    return function socket_on_message(evt) {\n",
       "        if (evt.data instanceof Blob) {\n",
       "            /* FIXME: We get \"Resource interpreted as Image but\n",
       "             * transferred with MIME type text/plain:\" errors on\n",
       "             * Chrome.  But how to set the MIME type?  It doesn't seem\n",
       "             * to be part of the websocket stream */\n",
       "            evt.data.type = \"image/png\";\n",
       "\n",
       "            /* Free the memory for the previous frames */\n",
       "            if (fig.imageObj.src) {\n",
       "                (window.URL || window.webkitURL).revokeObjectURL(\n",
       "                    fig.imageObj.src);\n",
       "            }\n",
       "\n",
       "            fig.imageObj.src = (window.URL || window.webkitURL).createObjectURL(\n",
       "                evt.data);\n",
       "            fig.updated_canvas_event();\n",
       "            fig.waiting = false;\n",
       "            return;\n",
       "        }\n",
       "        else if (typeof evt.data === 'string' && evt.data.slice(0, 21) == \"data:image/png;base64\") {\n",
       "            fig.imageObj.src = evt.data;\n",
       "            fig.updated_canvas_event();\n",
       "            fig.waiting = false;\n",
       "            return;\n",
       "        }\n",
       "\n",
       "        var msg = JSON.parse(evt.data);\n",
       "        var msg_type = msg['type'];\n",
       "\n",
       "        // Call the  \"handle_{type}\" callback, which takes\n",
       "        // the figure and JSON message as its only arguments.\n",
       "        try {\n",
       "            var callback = fig[\"handle_\" + msg_type];\n",
       "        } catch (e) {\n",
       "            console.log(\"No handler for the '\" + msg_type + \"' message type: \", msg);\n",
       "            return;\n",
       "        }\n",
       "\n",
       "        if (callback) {\n",
       "            try {\n",
       "                // console.log(\"Handling '\" + msg_type + \"' message: \", msg);\n",
       "                callback(fig, msg);\n",
       "            } catch (e) {\n",
       "                console.log(\"Exception inside the 'handler_\" + msg_type + \"' callback:\", e, e.stack, msg);\n",
       "            }\n",
       "        }\n",
       "    };\n",
       "}\n",
       "\n",
       "// from http://stackoverflow.com/questions/1114465/getting-mouse-location-in-canvas\n",
       "mpl.findpos = function(e) {\n",
       "    //this section is from http://www.quirksmode.org/js/events_properties.html\n",
       "    var targ;\n",
       "    if (!e)\n",
       "        e = window.event;\n",
       "    if (e.target)\n",
       "        targ = e.target;\n",
       "    else if (e.srcElement)\n",
       "        targ = e.srcElement;\n",
       "    if (targ.nodeType == 3) // defeat Safari bug\n",
       "        targ = targ.parentNode;\n",
       "\n",
       "    // jQuery normalizes the pageX and pageY\n",
       "    // pageX,Y are the mouse positions relative to the document\n",
       "    // offset() returns the position of the element relative to the document\n",
       "    var x = e.pageX - $(targ).offset().left;\n",
       "    var y = e.pageY - $(targ).offset().top;\n",
       "\n",
       "    return {\"x\": x, \"y\": y};\n",
       "};\n",
       "\n",
       "/*\n",
       " * return a copy of an object with only non-object keys\n",
       " * we need this to avoid circular references\n",
       " * http://stackoverflow.com/a/24161582/3208463\n",
       " */\n",
       "function simpleKeys (original) {\n",
       "  return Object.keys(original).reduce(function (obj, key) {\n",
       "    if (typeof original[key] !== 'object')\n",
       "        obj[key] = original[key]\n",
       "    return obj;\n",
       "  }, {});\n",
       "}\n",
       "\n",
       "mpl.figure.prototype.mouse_event = function(event, name) {\n",
       "    var canvas_pos = mpl.findpos(event)\n",
       "\n",
       "    if (name === 'button_press')\n",
       "    {\n",
       "        this.canvas.focus();\n",
       "        this.canvas_div.focus();\n",
       "    }\n",
       "\n",
       "    var x = canvas_pos.x;\n",
       "    var y = canvas_pos.y;\n",
       "\n",
       "    this.send_message(name, {x: x, y: y, button: event.button,\n",
       "                             step: event.step,\n",
       "                             guiEvent: simpleKeys(event)});\n",
       "\n",
       "    /* This prevents the web browser from automatically changing to\n",
       "     * the text insertion cursor when the button is pressed.  We want\n",
       "     * to control all of the cursor setting manually through the\n",
       "     * 'cursor' event from matplotlib */\n",
       "    event.preventDefault();\n",
       "    return false;\n",
       "}\n",
       "\n",
       "mpl.figure.prototype._key_event_extra = function(event, name) {\n",
       "    // Handle any extra behaviour associated with a key event\n",
       "}\n",
       "\n",
       "mpl.figure.prototype.key_event = function(event, name) {\n",
       "\n",
       "    // Prevent repeat events\n",
       "    if (name == 'key_press')\n",
       "    {\n",
       "        if (event.which === this._key)\n",
       "            return;\n",
       "        else\n",
       "            this._key = event.which;\n",
       "    }\n",
       "    if (name == 'key_release')\n",
       "        this._key = null;\n",
       "\n",
       "    var value = '';\n",
       "    if (event.ctrlKey && event.which != 17)\n",
       "        value += \"ctrl+\";\n",
       "    if (event.altKey && event.which != 18)\n",
       "        value += \"alt+\";\n",
       "    if (event.shiftKey && event.which != 16)\n",
       "        value += \"shift+\";\n",
       "\n",
       "    value += 'k';\n",
       "    value += event.which.toString();\n",
       "\n",
       "    this._key_event_extra(event, name);\n",
       "\n",
       "    this.send_message(name, {key: value,\n",
       "                             guiEvent: simpleKeys(event)});\n",
       "    return false;\n",
       "}\n",
       "\n",
       "mpl.figure.prototype.toolbar_button_onclick = function(name) {\n",
       "    if (name == 'download') {\n",
       "        this.handle_save(this, null);\n",
       "    } else {\n",
       "        this.send_message(\"toolbar_button\", {name: name});\n",
       "    }\n",
       "};\n",
       "\n",
       "mpl.figure.prototype.toolbar_button_onmouseover = function(tooltip) {\n",
       "    this.message.textContent = tooltip;\n",
       "};\n",
       "mpl.toolbar_items = [[\"Home\", \"Reset original view\", \"fa fa-home icon-home\", \"home\"], [\"Back\", \"Back to  previous view\", \"fa fa-arrow-left icon-arrow-left\", \"back\"], [\"Forward\", \"Forward to next view\", \"fa fa-arrow-right icon-arrow-right\", \"forward\"], [\"\", \"\", \"\", \"\"], [\"Pan\", \"Pan axes with left mouse, zoom with right\", \"fa fa-arrows icon-move\", \"pan\"], [\"Zoom\", \"Zoom to rectangle\", \"fa fa-square-o icon-check-empty\", \"zoom\"], [\"\", \"\", \"\", \"\"], [\"Download\", \"Download plot\", \"fa fa-floppy-o icon-save\", \"download\"]];\n",
       "\n",
       "mpl.extensions = [\"eps\", \"jpeg\", \"pdf\", \"png\", \"ps\", \"raw\", \"svg\", \"tif\"];\n",
       "\n",
       "mpl.default_extension = \"png\";var comm_websocket_adapter = function(comm) {\n",
       "    // Create a \"websocket\"-like object which calls the given IPython comm\n",
       "    // object with the appropriate methods. Currently this is a non binary\n",
       "    // socket, so there is still some room for performance tuning.\n",
       "    var ws = {};\n",
       "\n",
       "    ws.close = function() {\n",
       "        comm.close()\n",
       "    };\n",
       "    ws.send = function(m) {\n",
       "        //console.log('sending', m);\n",
       "        comm.send(m);\n",
       "    };\n",
       "    // Register the callback with on_msg.\n",
       "    comm.on_msg(function(msg) {\n",
       "        //console.log('receiving', msg['content']['data'], msg);\n",
       "        // Pass the mpl event to the overriden (by mpl) onmessage function.\n",
       "        ws.onmessage(msg['content']['data'])\n",
       "    });\n",
       "    return ws;\n",
       "}\n",
       "\n",
       "mpl.mpl_figure_comm = function(comm, msg) {\n",
       "    // This is the function which gets called when the mpl process\n",
       "    // starts-up an IPython Comm through the \"matplotlib\" channel.\n",
       "\n",
       "    var id = msg.content.data.id;\n",
       "    // Get hold of the div created by the display call when the Comm\n",
       "    // socket was opened in Python.\n",
       "    var element = $(\"#\" + id);\n",
       "    var ws_proxy = comm_websocket_adapter(comm)\n",
       "\n",
       "    function ondownload(figure, format) {\n",
       "        window.open(figure.imageObj.src);\n",
       "    }\n",
       "\n",
       "    var fig = new mpl.figure(id, ws_proxy,\n",
       "                           ondownload,\n",
       "                           element.get(0));\n",
       "\n",
       "    // Call onopen now - mpl needs it, as it is assuming we've passed it a real\n",
       "    // web socket which is closed, not our websocket->open comm proxy.\n",
       "    ws_proxy.onopen();\n",
       "\n",
       "    fig.parent_element = element.get(0);\n",
       "    fig.cell_info = mpl.find_output_cell(\"<div id='\" + id + \"'></div>\");\n",
       "    if (!fig.cell_info) {\n",
       "        console.error(\"Failed to find cell for figure\", id, fig);\n",
       "        return;\n",
       "    }\n",
       "\n",
       "    var output_index = fig.cell_info[2]\n",
       "    var cell = fig.cell_info[0];\n",
       "\n",
       "};\n",
       "\n",
       "mpl.figure.prototype.handle_close = function(fig, msg) {\n",
       "    fig.root.unbind('remove')\n",
       "\n",
       "    // Update the output cell to use the data from the current canvas.\n",
       "    fig.push_to_output();\n",
       "    var dataURL = fig.canvas.toDataURL();\n",
       "    // Re-enable the keyboard manager in IPython - without this line, in FF,\n",
       "    // the notebook keyboard shortcuts fail.\n",
       "    IPython.keyboard_manager.enable()\n",
       "    $(fig.parent_element).html('<img src=\"' + dataURL + '\">');\n",
       "    fig.close_ws(fig, msg);\n",
       "}\n",
       "\n",
       "mpl.figure.prototype.close_ws = function(fig, msg){\n",
       "    fig.send_message('closing', msg);\n",
       "    // fig.ws.close()\n",
       "}\n",
       "\n",
       "mpl.figure.prototype.push_to_output = function(remove_interactive) {\n",
       "    // Turn the data on the canvas into data in the output cell.\n",
       "    var dataURL = this.canvas.toDataURL();\n",
       "    this.cell_info[1]['text/html'] = '<img src=\"' + dataURL + '\">';\n",
       "}\n",
       "\n",
       "mpl.figure.prototype.updated_canvas_event = function() {\n",
       "    // Tell IPython that the notebook contents must change.\n",
       "    IPython.notebook.set_dirty(true);\n",
       "    this.send_message(\"ack\", {});\n",
       "    var fig = this;\n",
       "    // Wait a second, then push the new image to the DOM so\n",
       "    // that it is saved nicely (might be nice to debounce this).\n",
       "    setTimeout(function () { fig.push_to_output() }, 1000);\n",
       "}\n",
       "\n",
       "mpl.figure.prototype._init_toolbar = function() {\n",
       "    var fig = this;\n",
       "\n",
       "    var nav_element = $('<div/>')\n",
       "    nav_element.attr('style', 'width: 100%');\n",
       "    this.root.append(nav_element);\n",
       "\n",
       "    // Define a callback function for later on.\n",
       "    function toolbar_event(event) {\n",
       "        return fig.toolbar_button_onclick(event['data']);\n",
       "    }\n",
       "    function toolbar_mouse_event(event) {\n",
       "        return fig.toolbar_button_onmouseover(event['data']);\n",
       "    }\n",
       "\n",
       "    for(var toolbar_ind in mpl.toolbar_items){\n",
       "        var name = mpl.toolbar_items[toolbar_ind][0];\n",
       "        var tooltip = mpl.toolbar_items[toolbar_ind][1];\n",
       "        var image = mpl.toolbar_items[toolbar_ind][2];\n",
       "        var method_name = mpl.toolbar_items[toolbar_ind][3];\n",
       "\n",
       "        if (!name) { continue; };\n",
       "\n",
       "        var button = $('<button class=\"btn btn-default\" href=\"#\" title=\"' + name + '\"><i class=\"fa ' + image + ' fa-lg\"></i></button>');\n",
       "        button.click(method_name, toolbar_event);\n",
       "        button.mouseover(tooltip, toolbar_mouse_event);\n",
       "        nav_element.append(button);\n",
       "    }\n",
       "\n",
       "    // Add the status bar.\n",
       "    var status_bar = $('<span class=\"mpl-message\" style=\"text-align:right; float: right;\"/>');\n",
       "    nav_element.append(status_bar);\n",
       "    this.message = status_bar[0];\n",
       "\n",
       "    // Add the close button to the window.\n",
       "    var buttongrp = $('<div class=\"btn-group inline pull-right\"></div>');\n",
       "    var button = $('<button class=\"btn btn-mini btn-primary\" href=\"#\" title=\"Stop Interaction\"><i class=\"fa fa-power-off icon-remove icon-large\"></i></button>');\n",
       "    button.click(function (evt) { fig.handle_close(fig, {}); } );\n",
       "    button.mouseover('Stop Interaction', toolbar_mouse_event);\n",
       "    buttongrp.append(button);\n",
       "    var titlebar = this.root.find($('.ui-dialog-titlebar'));\n",
       "    titlebar.prepend(buttongrp);\n",
       "}\n",
       "\n",
       "mpl.figure.prototype._root_extra_style = function(el){\n",
       "    var fig = this\n",
       "    el.on(\"remove\", function(){\n",
       "\tfig.close_ws(fig, {});\n",
       "    });\n",
       "}\n",
       "\n",
       "mpl.figure.prototype._canvas_extra_style = function(el){\n",
       "    // this is important to make the div 'focusable\n",
       "    el.attr('tabindex', 0)\n",
       "    // reach out to IPython and tell the keyboard manager to turn it's self\n",
       "    // off when our div gets focus\n",
       "\n",
       "    // location in version 3\n",
       "    if (IPython.notebook.keyboard_manager) {\n",
       "        IPython.notebook.keyboard_manager.register_events(el);\n",
       "    }\n",
       "    else {\n",
       "        // location in version 2\n",
       "        IPython.keyboard_manager.register_events(el);\n",
       "    }\n",
       "\n",
       "}\n",
       "\n",
       "mpl.figure.prototype._key_event_extra = function(event, name) {\n",
       "    var manager = IPython.notebook.keyboard_manager;\n",
       "    if (!manager)\n",
       "        manager = IPython.keyboard_manager;\n",
       "\n",
       "    // Check for shift+enter\n",
       "    if (event.shiftKey && event.which == 13) {\n",
       "        this.canvas_div.blur();\n",
       "        event.shiftKey = false;\n",
       "        // Send a \"J\" for go to next cell\n",
       "        event.which = 74;\n",
       "        event.keyCode = 74;\n",
       "        manager.command_mode();\n",
       "        manager.handle_keydown(event);\n",
       "    }\n",
       "}\n",
       "\n",
       "mpl.figure.prototype.handle_save = function(fig, msg) {\n",
       "    fig.ondownload(fig, null);\n",
       "}\n",
       "\n",
       "\n",
       "mpl.find_output_cell = function(html_output) {\n",
       "    // Return the cell and output element which can be found *uniquely* in the notebook.\n",
       "    // Note - this is a bit hacky, but it is done because the \"notebook_saving.Notebook\"\n",
       "    // IPython event is triggered only after the cells have been serialised, which for\n",
       "    // our purposes (turning an active figure into a static one), is too late.\n",
       "    var cells = IPython.notebook.get_cells();\n",
       "    var ncells = cells.length;\n",
       "    for (var i=0; i<ncells; i++) {\n",
       "        var cell = cells[i];\n",
       "        if (cell.cell_type === 'code'){\n",
       "            for (var j=0; j<cell.output_area.outputs.length; j++) {\n",
       "                var data = cell.output_area.outputs[j];\n",
       "                if (data.data) {\n",
       "                    // IPython >= 3 moved mimebundle to data attribute of output\n",
       "                    data = data.data;\n",
       "                }\n",
       "                if (data['text/html'] == html_output) {\n",
       "                    return [cell, data, j];\n",
       "                }\n",
       "            }\n",
       "        }\n",
       "    }\n",
       "}\n",
       "\n",
       "// Register the function which deals with the matplotlib target/channel.\n",
       "// The kernel may be null if the page has been refreshed.\n",
       "if (IPython.notebook.kernel != null) {\n",
       "    IPython.notebook.kernel.comm_manager.register_target('matplotlib', mpl.mpl_figure_comm);\n",
       "}\n"
      ],
      "text/plain": [
       "<IPython.core.display.Javascript object>"
      ]
     },
     "metadata": {},
     "output_type": "display_data"
    },
    {
     "data": {
      "text/html": [
       "<img src=\"data:image/png;base64,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\">"
      ],
      "text/plain": [
       "<IPython.core.display.HTML object>"
      ]
     },
     "metadata": {},
     "output_type": "display_data"
    },
    {
     "name": "stdout",
     "output_type": "stream",
     "text": [
      "num_points 204\n",
      "largest_value 100\n",
      "smallest_value 1\n",
      "smallest_value 1\n",
      "second_smallest_value 1\n",
      "second_largest_value 49\n"
     ]
    }
   ],
   "source": [
    "def make_friend_counts_histogram(plt):\n",
    "    friend_counts = Counter(num_friends)\n",
    "    xs = range(101)\n",
    "    ys = [friend_counts[x] for x in xs]\n",
    "    plt.axis([0,101,0,25])\n",
    "    plt.bar(xs, ys)\n",
    "    plt.title(\"Histogram of Friend Counts\")\n",
    "    plt.xlabel(\"# of friends\")\n",
    "    plt.ylabel(\"# of people\")\n",
    "    plt.show()\n",
    "\n",
    "% matplotlib notebook\n",
    "make_friend_counts_histogram(plt)\n",
    "\n",
    "num_points = len(num_friends)\n",
    "print 'num_points', num_points\n",
    "\n",
    "largest_value = max(num_friends)\n",
    "print 'largest_value', largest_value\n",
    "\n",
    "smallest_value = min(num_friends)\n",
    "print 'smallest_value', smallest_value\n",
    "\n",
    "sorted_values = sorted(num_friends)\n",
    "smallest_value = sorted_values[0]\n",
    "print 'smallest_value', smallest_value\n",
    "\n",
    "second_smallest_value = sorted_values[1]\n",
    "print 'second_smallest_value', second_smallest_value\n",
    "\n",
    "second_largest_value = sorted_values[-2]\n",
    "print 'second_largest_value', second_largest_value"
   ]
  },
  {
   "cell_type": "markdown",
   "metadata": {},
   "source": [
    "### mean"
   ]
  },
  {
   "cell_type": "code",
   "execution_count": 4,
   "metadata": {
    "collapsed": false
   },
   "outputs": [
    {
     "data": {
      "text/plain": [
       "7.333333333333333"
      ]
     },
     "execution_count": 4,
     "metadata": {},
     "output_type": "execute_result"
    }
   ],
   "source": [
    "def mean(x):\n",
    "    return sum(x) / len(x)\n",
    "\n",
    "mean(num_friends)"
   ]
  },
  {
   "cell_type": "markdown",
   "metadata": {},
   "source": [
    "### median"
   ]
  },
  {
   "cell_type": "code",
   "execution_count": 5,
   "metadata": {
    "collapsed": false
   },
   "outputs": [
    {
     "data": {
      "text/plain": [
       "6.0"
      ]
     },
     "execution_count": 5,
     "metadata": {},
     "output_type": "execute_result"
    }
   ],
   "source": [
    "def median(x):\n",
    "    \n",
    "    x_sorted = sorted(x)\n",
    "    quotient, remainder = divmod(len(x_sorted), 2)\n",
    "    \n",
    "    if remainder==0:        \n",
    "        return (x_sorted[quotient-1] + x_sorted[quotient]) / 2\n",
    "    else:\n",
    "        return x_sorted[quotient]\n",
    "\n",
    "median(num_friends)"
   ]
  },
  {
   "cell_type": "markdown",
   "metadata": {},
   "source": [
    "### quantile"
   ]
  },
  {
   "cell_type": "code",
   "execution_count": 6,
   "metadata": {
    "collapsed": false
   },
   "outputs": [
    {
     "data": {
      "text/plain": [
       "9"
      ]
     },
     "execution_count": 6,
     "metadata": {},
     "output_type": "execute_result"
    }
   ],
   "source": [
    "def quantile(x, p):\n",
    "    \"\"\"returns the pth-percentile value in x\"\"\"\n",
    "    x_sorted = sorted(num_friends)\n",
    "    n = len(x_sorted)\n",
    "    p_idx = int(n * p)\n",
    "    return x_sorted[p_idx]\n",
    "\n",
    "quantile(num_friends, 0.75)"
   ]
  },
  {
   "cell_type": "markdown",
   "metadata": {},
   "source": [
    "### mode"
   ]
  },
  {
   "cell_type": "code",
   "execution_count": 7,
   "metadata": {
    "collapsed": false,
    "scrolled": false
   },
   "outputs": [
    {
     "data": {
      "text/plain": [
       "[1, 6]"
      ]
     },
     "execution_count": 7,
     "metadata": {},
     "output_type": "execute_result"
    }
   ],
   "source": [
    "def mode(x):\n",
    "    \"\"\"returns a list, might be more than one mode\"\"\"\n",
    "    counter = Counter(num_friends)\n",
    "    max_cnt = max(counter.itervalues())\n",
    "    return [num for num, cnt in counter.iteritems() if cnt==max_cnt]\n",
    "\n",
    "mode(num_friends)"
   ]
  },
  {
   "cell_type": "markdown",
   "metadata": {},
   "source": [
    "### range"
   ]
  },
  {
   "cell_type": "code",
   "execution_count": 8,
   "metadata": {
    "collapsed": false
   },
   "outputs": [
    {
     "data": {
      "text/plain": [
       "99"
      ]
     },
     "execution_count": 8,
     "metadata": {},
     "output_type": "execute_result"
    }
   ],
   "source": [
    "def data_range(x):\n",
    "    return max(x) - min(x)\n",
    "\n",
    "data_range(num_friends)"
   ]
  },
  {
   "cell_type": "markdown",
   "metadata": {},
   "source": [
    "### de_mean"
   ]
  },
  {
   "cell_type": "code",
   "execution_count": 17,
   "metadata": {
    "collapsed": false
   },
   "outputs": [
    {
     "data": {
      "text/plain": [
       "[92.66666666666667,\n",
       " 41.666666666666664,\n",
       " 33.666666666666664,\n",
       " 32.666666666666664,\n",
       " 17.666666666666668,\n",
       " 13.666666666666668,\n",
       " 13.666666666666668,\n",
       " 11.666666666666668,\n",
       " 11.666666666666668,\n",
       " 10.666666666666668]"
      ]
     },
     "execution_count": 17,
     "metadata": {},
     "output_type": "execute_result"
    }
   ],
   "source": [
    "def de_mean(x):\n",
    "    \"\"\"translate x by subtracting its mean (so the result has mean 0)\"\"\"\n",
    "    x_mean = mean(x)\n",
    "    return [val - x_mean for val in x]\n",
    "    \n",
    "de_mean(num_friends)[:10]"
   ]
  },
  {
   "cell_type": "markdown",
   "metadata": {},
   "source": [
    "### variance\n",
    "$ \\sigma^2 = \\frac{\\sum_{i=1}^{n}(x_i - \\mu)^2} {n} $"
   ]
  },
  {
   "cell_type": "code",
   "execution_count": 10,
   "metadata": {
    "collapsed": false,
    "scrolled": true
   },
   "outputs": [
    {
     "data": {
      "text/plain": [
       "81.14379084967331"
      ]
     },
     "execution_count": 10,
     "metadata": {},
     "output_type": "execute_result"
    }
   ],
   "source": [
    "def variance(x):\n",
    "    \"\"\"assumes x has at least two elements\"\"\"\n",
    "    x_mean = mean(x)\n",
    "    n = len(x)\n",
    "    return sum([(val - x_mean)**2 for val in x]) / n\n",
    "    \n",
    "variance(num_friends)"
   ]
  },
  {
   "cell_type": "markdown",
   "metadata": {},
   "source": [
    "### standard_deviation"
   ]
  },
  {
   "cell_type": "code",
   "execution_count": 11,
   "metadata": {
    "collapsed": false
   },
   "outputs": [
    {
     "data": {
      "text/plain": [
       "9.007984838446017"
      ]
     },
     "execution_count": 11,
     "metadata": {},
     "output_type": "execute_result"
    }
   ],
   "source": [
    "def standard_deviation(x):\n",
    "    return math.sqrt(variance(x))\n",
    "\n",
    "standard_deviation(num_friends)"
   ]
  },
  {
   "cell_type": "markdown",
   "metadata": {},
   "source": [
    "### interquartile_range"
   ]
  },
  {
   "cell_type": "code",
   "execution_count": 12,
   "metadata": {
    "collapsed": false
   },
   "outputs": [
    {
     "data": {
      "text/plain": [
       "6"
      ]
     },
     "execution_count": 12,
     "metadata": {},
     "output_type": "execute_result"
    }
   ],
   "source": [
    "def interquartile_range(x):\n",
    "    return quantile(x, 0.75) - quantile(x, 0.25)\n",
    "\n",
    "interquartile_range(num_friends)"
   ]
  },
  {
   "cell_type": "code",
   "execution_count": 13,
   "metadata": {
    "collapsed": true
   },
   "outputs": [],
   "source": [
    "daily_minutes = [1,68.77,51.25,52.08,38.36,44.54,57.13,51.4,41.42,31.22,34.76,54.01,38.79,\n",
    "                 47.59,49.1,27.66,41.03,36.73,48.65,28.12,46.62,35.57,32.98,35,26.07,23.77,\n",
    "                 39.73,40.57,31.65,31.21,36.32,20.45,21.93,26.02,27.34,23.49,46.94,30.5,33.8,\n",
    "                 24.23,21.4,27.94,32.24,40.57,25.07,19.42,22.39,18.42,46.96,23.72,26.41,26.97,\n",
    "                 36.76,40.32,35.02,29.47,30.2,31,38.11,38.18,36.31,21.03,30.86,36.07,28.66,\n",
    "                 29.08,37.28,15.28,24.17,22.31,30.17,25.53,19.85,35.37,44.6,17.23,13.47,26.33,\n",
    "                 35.02,32.09,24.81,19.33,28.77,24.26,31.98,25.73,24.86,16.28,34.51,15.23,39.72,\n",
    "                 40.8,26.06,35.76,34.76,16.13,44.04,18.03,19.65,32.62,35.59,39.43,14.18,35.24,\n",
    "                 40.13,41.82,35.45,36.07,43.67,24.61,20.9,21.9,18.79,27.61,27.21,26.61,29.77,\n",
    "                 20.59,27.53,13.82,33.2,25,33.1,36.65,18.63,14.87,22.2,36.81,25.53,24.62,26.25,\n",
    "                 18.21,28.08,19.42,29.79,32.8,35.99,28.32,27.79,35.88,29.06,36.28,14.1,36.63,\n",
    "                 37.49,26.9,18.58,38.48,24.48,18.95,33.55,14.24,29.04,32.51,25.63,22.22,19,\n",
    "                 32.73,15.16,13.9,27.2,32.01,29.27,33,13.74,20.42,27.32,18.23,35.35,28.48,9.08,\n",
    "                 24.62,20.12,35.26,19.92,31.02,16.49,12.16,30.7,31.22,34.65,13.13,27.51,33.2,\n",
    "                 31.57,14.1,33.42,17.44,10.12,24.42,9.82,23.39,30.93,15.03,21.67,31.09,33.29,\n",
    "                 22.61,26.89,23.48,8.38,27.81,32.35,23.84]"
   ]
  },
  {
   "cell_type": "markdown",
   "metadata": {},
   "source": [
    "### covariance\n",
    "\n",
    "$cov_{x,y}=\\frac{\\sum_{i=1}^{N}(x_{i}-\\bar{x})(y_{i}-\\bar{y})}{N-1}$"
   ]
  },
  {
   "cell_type": "code",
   "execution_count": 14,
   "metadata": {
    "collapsed": false
   },
   "outputs": [
    {
     "data": {
      "text/plain": [
       "22.425435139573064"
      ]
     },
     "execution_count": 14,
     "metadata": {},
     "output_type": "execute_result"
    }
   ],
   "source": [
    "def covariance(x, y):\n",
    "    n = len(x)\n",
    "    return dot(de_mean(x), de_mean(y)) / (n - 1)\n",
    "    \n",
    "covariance(num_friends, daily_minutes)"
   ]
  },
  {
   "cell_type": "markdown",
   "metadata": {},
   "source": [
    "### correlation"
   ]
  },
  {
   "cell_type": "code",
   "execution_count": 15,
   "metadata": {
    "collapsed": false
   },
   "outputs": [
    {
     "data": {
      "image/png": "[encoded data removed]",
      "text/plain": [
       "<IPython.core.display.Image object>"
      ]
     },
     "execution_count": 15,
     "metadata": {},
     "output_type": "execute_result"
    }
   ],
   "source": [
    "Image('img/C05_006.png')"
   ]
  },
  {
   "cell_type": "markdown",
   "metadata": {},
   "source": [
    "#### correlation vs covariance\n",
    "\n",
    "The problem with **covariances** is that they are hard to compare: when you calculate the covariance of a set of heights and weights, as expressed in (respectively) meters and kilograms, you will get a different covariance from when you do it in other units (which already gives a problem for people doing the same thing with or without the metric system!), but also, it will be hard to tell if (e.g.) height and weight 'covariate better' than, e.g. the length of your toes and fingers, simply because the 'scale' you calculate the covariance on is different.\n",
    "\n",
    "The solution to this is to 'normalize' the covariance: you divide the covariance by something that represents the diversity and scale in both the covariates, and end up with a value that is assured to be **between -1 and 1**: the correlation. Whatever unit your original variables were in, you will always get the same result, and this will also ensure that you can, to a certain degree, compare whether two variables 'correlate' more than two others, simply by comparing their correlation."
   ]
  },
  {
   "cell_type": "code",
   "execution_count": 16,
   "metadata": {
    "collapsed": false
   },
   "outputs": [
    {
     "data": {
      "text/plain": [
       "0.24858814299318005"
      ]
     },
     "execution_count": 16,
     "metadata": {},
     "output_type": "execute_result"
    }
   ],
   "source": [
    "def correlation(x, y):\n",
    "    x_st = standard_deviation(x)\n",
    "    y_st = standard_deviation(y)\n",
    "    \n",
    "    if x_st > 0 and y_st > 0:\n",
    "        return covariance(x, y) / (x_st * y_st)\n",
    "    else:\n",
    "        # if no variation, correlation is zero\n",
    "        return 0\n",
    "    \n",
    "correlation(num_friends, daily_minutes)"
   ]
  }
 ],
 "metadata": {
  "kernelspec": {
   "display_name": "Python 2",
   "language": "python",
   "name": "python2"
  },
  "language_info": {
   "codemirror_mode": {
    "name": "ipython",
    "version": 2
   },
   "file_extension": ".py",
   "mimetype": "text/x-python",
   "name": "python",
   "nbconvert_exporter": "python",
   "pygments_lexer": "ipython2",
   "version": "2.7.11"
  }
 },
 "nbformat": 4,
 "nbformat_minor": 0
}
